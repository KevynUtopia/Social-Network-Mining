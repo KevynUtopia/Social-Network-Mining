{
 "cells": [
  {
   "cell_type": "code",
   "execution_count": 36,
   "metadata": {},
   "outputs": [],
   "source": [
    "import networkx as nx\n",
    "import numpy as np\n",
    "import os\n",
    "import time\n",
    "import pandas as pd\n",
    "import matplotlib as mpl\n",
    "import matplotlib.pyplot as plt\n",
    "from itertools import chain\n",
    "from collections import defaultdict\n",
    "from gensim.models import Word2Vec\n",
    "from sklearn.model_selection import KFold\n",
    "from sklearn.metrics import roc_auc_score\n",
    "from operator import itemgetter\n",
    "from networkx.drawing.nx_agraph import graphviz_layout"
   ]
  },
  {
   "cell_type": "code",
   "execution_count": 10,
   "metadata": {},
   "outputs": [],
   "source": [
    "train_file = \"./data/train.csv\"\n",
    "valid_file = \"./data/valid.csv\"\n",
    "test_file = \"./data/test.csv\""
   ]
  },
  {
   "cell_type": "code",
   "execution_count": 6,
   "metadata": {},
   "outputs": [
    {
     "data": {
      "text/html": [
       "<div>\n",
       "<style scoped>\n",
       "    .dataframe tbody tr th:only-of-type {\n",
       "        vertical-align: middle;\n",
       "    }\n",
       "\n",
       "    .dataframe tbody tr th {\n",
       "        vertical-align: top;\n",
       "    }\n",
       "\n",
       "    .dataframe thead th {\n",
       "        text-align: right;\n",
       "    }\n",
       "</style>\n",
       "<table border=\"1\" class=\"dataframe\">\n",
       "  <thead>\n",
       "    <tr style=\"text-align: right;\">\n",
       "      <th></th>\n",
       "      <th>src</th>\n",
       "      <th>dst</th>\n",
       "      <th>score</th>\n",
       "    </tr>\n",
       "  </thead>\n",
       "  <tbody>\n",
       "    <tr>\n",
       "      <th>0</th>\n",
       "      <td>58yXn5Y4409kc9q88YwU6w</td>\n",
       "      <td>sD6pnjnciK--3OSdM12FOA</td>\n",
       "      <td>0</td>\n",
       "    </tr>\n",
       "    <tr>\n",
       "      <th>1</th>\n",
       "      <td>ipqEcqA1MMWPE9QR4izj-w</td>\n",
       "      <td>nxEZi8hmI5zR_x85sZZJyg</td>\n",
       "      <td>0</td>\n",
       "    </tr>\n",
       "    <tr>\n",
       "      <th>2</th>\n",
       "      <td>JPEp9OrW0HLZUQ4t-ODM6w</td>\n",
       "      <td>t8a4wTKqHjF6b_6VqBfr8A</td>\n",
       "      <td>0</td>\n",
       "    </tr>\n",
       "    <tr>\n",
       "      <th>3</th>\n",
       "      <td>PcPminF0bIUsKjUh9e4DMQ</td>\n",
       "      <td>dEk7mXM4npuDPmxrwPcEgQ</td>\n",
       "      <td>0</td>\n",
       "    </tr>\n",
       "    <tr>\n",
       "      <th>4</th>\n",
       "      <td>9SiMC8YFsAZi1kZ-cyxG6w</td>\n",
       "      <td>Wi0VgIrbb8vqU6weyVw6tg</td>\n",
       "      <td>0</td>\n",
       "    </tr>\n",
       "  </tbody>\n",
       "</table>\n",
       "</div>"
      ],
      "text/plain": [
       "                      src                     dst  score\n",
       "0  58yXn5Y4409kc9q88YwU6w  sD6pnjnciK--3OSdM12FOA      0\n",
       "1  ipqEcqA1MMWPE9QR4izj-w  nxEZi8hmI5zR_x85sZZJyg      0\n",
       "2  JPEp9OrW0HLZUQ4t-ODM6w  t8a4wTKqHjF6b_6VqBfr8A      0\n",
       "3  PcPminF0bIUsKjUh9e4DMQ  dEk7mXM4npuDPmxrwPcEgQ      0\n",
       "4  9SiMC8YFsAZi1kZ-cyxG6w  Wi0VgIrbb8vqU6weyVw6tg      0"
      ]
     },
     "execution_count": 6,
     "metadata": {},
     "output_type": "execute_result"
    }
   ],
   "source": [
    "test_file.head()"
   ]
  },
  {
   "cell_type": "code",
   "execution_count": 11,
   "metadata": {},
   "outputs": [],
   "source": [
    "def load_data(file_name):\n",
    "    \"\"\"\n",
    "    read edges from an edge file\n",
    "    \"\"\"\n",
    "    edges = list()\n",
    "    df = pd.read_csv(file_name)\n",
    "    for idx, row in df.iterrows():\n",
    "        user_id, friends = row[\"user_id\"], eval(row[\"friends\"])\n",
    "        for friend in friends:\n",
    "            # add each friend relation as an edge\n",
    "            edges.append((user_id, friend))\n",
    "    edges = sorted(edges)\n",
    "    \n",
    "    return edges\n",
    "\n",
    "def load_test_data(file_name):\n",
    "    \"\"\"\n",
    "    read edges from an edge file\n",
    "    \"\"\"\n",
    "    edges = list()\n",
    "    scores = list()\n",
    "    df = pd.read_csv(file_name)\n",
    "    for idx, row in df.iterrows():\n",
    "        edges.append((row[\"src\"], row[\"dst\"]))\n",
    "    edges = sorted(edges)\n",
    "    \n",
    "    return edges\n",
    "\n",
    "def generate_false_edges(true_edges, num_false_edges=5):\n",
    "    \"\"\"\n",
    "    generate false edges given true edges\n",
    "    \"\"\"\n",
    "    nodes = list(set(chain.from_iterable(true_edges)))\n",
    "    N = len(nodes)\n",
    "    true_edges = set(true_edges)\n",
    "    print(N, len(true_edges))\n",
    "    false_edges = set()\n",
    "    \n",
    "    while len(false_edges) < num_false_edges:\n",
    "        # randomly sample two different nodes and check whether the pair exisit or not\n",
    "        src, dst = nodes[int(np.random.rand() * N)], nodes[int(np.random.rand() * N)]\n",
    "        if src != dst and (src, dst) not in true_edges and (src, dst) not in false_edges:\n",
    "            false_edges.add((src, dst))\n",
    "    false_edges = sorted(false_edges)\n",
    "    \n",
    "    return false_edges\n",
    "\n",
    "def construct_graph_from_edges(edges):\n",
    "    \"\"\"\n",
    "    generate a directed graph object given true edges\n",
    "    DiGraph documentation: https://networkx.github.io/documentation/stable/reference/classes/digraph.html\n",
    "    \"\"\"\n",
    "    # convert a list of edges {(u, v)} to a list of edges with weights {(u, v, w)}\n",
    "    edge_weight = defaultdict(float)\n",
    "    for e in edges:\n",
    "        edge_weight[e] += 1.0\n",
    "    weighed_edge_list = list()\n",
    "    for e in sorted(edge_weight.keys()):\n",
    "        weighed_edge_list.append((e[0], e[1], edge_weight[e]))\n",
    "        \n",
    "    graph = nx.DiGraph()\n",
    "    graph.add_weighted_edges_from(weighed_edge_list)\n",
    "    \n",
    "    print(\"number of nodes:\", graph.number_of_nodes())\n",
    "    print(\"number of edges:\", graph.number_of_edges())\n",
    "    \n",
    "    return graph"
   ]
  },
  {
   "cell_type": "code",
   "execution_count": 14,
   "metadata": {},
   "outputs": [
    {
     "name": "stdout",
     "output_type": "stream",
     "text": [
      "number of nodes: 8328\n",
      "number of edges: 100000\n",
      "8474 119268\n"
     ]
    }
   ],
   "source": [
    "train_edges = load_data(train_file)\n",
    "graph = construct_graph_from_edges(train_edges)\n",
    "valid_edges = load_data(valid_file)\n",
    "false_edges = generate_false_edges(train_edges+valid_edges, 40000-len(valid_edges))\n",
    "test_edges = load_test_data(test_file)"
   ]
  },
  {
   "cell_type": "code",
   "execution_count": 15,
   "metadata": {},
   "outputs": [
    {
     "name": "stdout",
     "output_type": "stream",
     "text": [
      "number of nodes: 8509\n",
      "number of edges: 40000\n"
     ]
    }
   ],
   "source": [
    "graph_2 = construct_graph_from_edges(test_edges)"
   ]
  },
  {
   "cell_type": "code",
   "execution_count": 16,
   "metadata": {},
   "outputs": [
    {
     "name": "stdout",
     "output_type": "stream",
     "text": [
      "number of nodes: 5440\n",
      "number of edges: 19268\n"
     ]
    }
   ],
   "source": [
    "graph_3 = construct_graph_from_edges(valid_edges)"
   ]
  },
  {
   "cell_type": "code",
   "execution_count": 17,
   "metadata": {},
   "outputs": [],
   "source": [
    "G_train = graph\n",
    "G_test = graph_2 \n",
    "G_val = graph_3"
   ]
  },
  {
   "cell_type": "code",
   "execution_count": 32,
   "metadata": {},
   "outputs": [],
   "source": [
    "graphs = [G_train, G_test, G_val]\n",
    "Name = ['Train Network', 'Test Network', 'Validation Network']"
   ]
  },
  {
   "cell_type": "code",
   "execution_count": 50,
   "metadata": {},
   "outputs": [
    {
     "data": {
      "image/png": "[encoded data removed]",
      "text/plain": [
       "<Figure size 432x288 with 2 Axes>"
      ]
     },
     "metadata": {
      "needs_background": "light"
     },
     "output_type": "display_data"
    }
   ],
   "source": [
    "degree_sequence = sorted([d for n, d in G_val.degree()], reverse=True)\n",
    "dmax = max(degree_sequence)\n",
    "\n",
    "plt.loglog(degree_sequence, \"b-\", marker=\"o\")\n",
    "plt.title(\"Validation Network Degree rank plot\")\n",
    "plt.ylabel(\"degree\")\n",
    "plt.xlabel(\"rank\")\n",
    "\n",
    "# draw graph in inset\n",
    "plt.axes([0.45, 0.45, 0.45, 0.45])\n",
    "plt.axis(\"off\")\n",
    "plt.show()"
   ]
  },
  {
   "cell_type": "code",
   "execution_count": 39,
   "metadata": {},
   "outputs": [
    {
     "name": "stdout",
     "output_type": "stream",
     "text": [
      "Clustering Coefficients:\n",
      "0.18328889886033992\n",
      "0.006329380161856736\n",
      "0.029565832698769303\n"
     ]
    }
   ],
   "source": [
    "print('Clustering Coefficients:')\n",
    "for G in graphs:\n",
    "    print(nx.average_clustering(G))"
   ]
  },
  {
   "cell_type": "code",
   "execution_count": 41,
   "metadata": {},
   "outputs": [
    {
     "name": "stdout",
     "output_type": "stream",
     "text": [
      "Triadic Census:\n",
      "{'003': 95705285681, '012': 225854476, '102': 293801782, '021D': 267296, '021U': 258416, '021C': 526708, '111D': 1358475, '111U': 1381511, '030T': 21659, '030C': 7261, '201': 1783231, '120D': 28403, '120U': 28690, '120C': 56724, '210': 149368, '300': 65895}\n",
      "{'003': 102315383154, '012': 315926161, '102': 11352220, '021D': 170502, '021U': 170413, '021C': 341776, '111D': 41060, '111U': 41047, '030T': 4820, '030C': 1613, '201': 2895, '120D': 384, '120U': 416, '120C': 751, '210': 119, '300': 3}\n",
      "{'003': 26719578470, '012': 89617340, '102': 7022547, '021D': 107390, '021U': 112311, '021C': 219604, '111D': 33924, '111U': 33296, '030T': 4974, '030C': 1667, '201': 2537, '120D': 376, '120U': 361, '120C': 758, '210': 121, '300': 4}\n"
     ]
    }
   ],
   "source": [
    "print('Triadic Census:')\n",
    "for G in graphs:\n",
    "    print(nx.triadic_census(G))"
   ]
  },
  {
   "cell_type": "code",
   "execution_count": 44,
   "metadata": {},
   "outputs": [
    {
     "name": "stdout",
     "output_type": "stream",
     "text": [
      "transitivity:\n",
      "0.12657438685440273\n",
      "0.017035552063861873\n",
      "0.02525830466977586\n"
     ]
    }
   ],
   "source": [
    "print('transitivity:')\n",
    "for G in graphs:\n",
    "    print(nx.transitivity(G))"
   ]
  },
  {
   "cell_type": "code",
   "execution_count": 47,
   "metadata": {},
   "outputs": [],
   "source": [
    "nx.write_gexf(G_train, \"G_train.gexf\")\n",
    "nx.write_gexf(G_test, \"G_test.gexf\")\n",
    "nx.write_gexf(G_val, \"G_val.gexf\")"
   ]
  },
  {
   "cell_type": "code",
   "execution_count": null,
   "metadata": {},
   "outputs": [],
   "source": []
  }
 ],
 "metadata": {
  "kernelspec": {
   "display_name": "Python 3",
   "language": "python",
   "name": "python3"
  },
  "language_info": {
   "codemirror_mode": {
    "name": "ipython",
    "version": 3
   },
   "file_extension": ".py",
   "mimetype": "text/x-python",
   "name": "python",
   "nbconvert_exporter": "python",
   "pygments_lexer": "ipython3",
   "version": "3.8.5"
  }
 },
 "nbformat": 4,
 "nbformat_minor": 4
}
