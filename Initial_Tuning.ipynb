{
 "cells": [
  {
   "cell_type": "code",
   "execution_count": 1,
   "metadata": {},
   "outputs": [
    {
     "name": "stdout",
     "output_type": "stream",
     "text": [
      "Requirement already satisfied: gensim in /home/kevyn/.local/lib/python3.8/site-packages (4.0.1)\n",
      "Requirement already satisfied: numpy>=1.11.3 in /home/kevyn/.local/lib/python3.8/site-packages (from gensim) (1.19.5)\n",
      "Requirement already satisfied: scipy>=0.18.1 in /home/kevyn/.local/lib/python3.8/site-packages (from gensim) (1.6.1)\n",
      "Requirement already satisfied: smart-open>=1.8.1 in /home/kevyn/.local/lib/python3.8/site-packages (from gensim) (3.0.0)\n",
      "Requirement already satisfied: requests in /usr/lib/python3/dist-packages (from smart-open>=1.8.1->gensim) (2.22.0)\n"
     ]
    }
   ],
   "source": [
    "!pip install gensim"
   ]
  },
  {
   "cell_type": "code",
   "execution_count": 2,
   "metadata": {},
   "outputs": [
    {
     "name": "stderr",
     "output_type": "stream",
     "text": [
      "/home/kevyn/.local/lib/python3.8/site-packages/gensim/similarities/__init__.py:15: UserWarning: The gensim.similarities.levenshtein submodule is disabled, because the optional Levenshtein package <https://pypi.org/project/python-Levenshtein/> is unavailable. Install Levenhstein (e.g. `pip install python-Levenshtein`) to suppress this warning.\n",
      "  warnings.warn(msg)\n"
     ]
    }
   ],
   "source": [
    "import networkx as nx\n",
    "import numpy as np\n",
    "import os\n",
    "import time\n",
    "import pandas as pd\n",
    "import matplotlib.pyplot as plt\n",
    "from itertools import chain\n",
    "from collections import defaultdict\n",
    "from gensim.models import Word2Vec\n",
    "from sklearn.model_selection import KFold\n",
    "from sklearn.metrics import roc_auc_score"
   ]
  },
  {
   "cell_type": "markdown",
   "metadata": {},
   "source": [
    "# Pipeline"
   ]
  },
  {
   "cell_type": "markdown",
   "metadata": {},
   "source": [
    "### Data Loader"
   ]
  },
  {
   "cell_type": "markdown",
   "metadata": {},
   "source": [
    "We need to load networks into memory. Usually networks are organized as pairs of nodes. And sometimes different edges have different weights. Hence, we use networkx.DiGraph to store such structure information and attributes."
   ]
  },
  {
   "cell_type": "code",
   "execution_count": 3,
   "metadata": {},
   "outputs": [],
   "source": [
    "def load_data(file_name):\n",
    "    \"\"\"\n",
    "    read edges from an edge file\n",
    "    \"\"\"\n",
    "    edges = list()\n",
    "    df = pd.read_csv(file_name)\n",
    "    for idx, row in df.iterrows():\n",
    "        user_id, friends = row[\"user_id\"], eval(row[\"friends\"])\n",
    "        for friend in friends:\n",
    "            # add each friend relation as an edge\n",
    "            edges.append((user_id, friend))\n",
    "    edges = sorted(edges)\n",
    "    \n",
    "    return edges\n",
    "\n",
    "def load_test_data(file_name):\n",
    "    \"\"\"\n",
    "    read edges from an edge file\n",
    "    \"\"\"\n",
    "    edges = list()\n",
    "    scores = list()\n",
    "    df = pd.read_csv(file_name)\n",
    "    for idx, row in df.iterrows():\n",
    "        edges.append((row[\"src\"], row[\"dst\"]))\n",
    "    edges = sorted(edges)\n",
    "    \n",
    "    return edges\n",
    "\n",
    "def generate_false_edges(true_edges, num_false_edges=5):\n",
    "    \"\"\"\n",
    "    generate false edges given true edges\n",
    "    \"\"\"\n",
    "    nodes = list(set(chain.from_iterable(true_edges)))\n",
    "    N = len(nodes)\n",
    "    true_edges = set(true_edges)\n",
    "    print(N, len(true_edges))\n",
    "    false_edges = set()\n",
    "    \n",
    "    while len(false_edges) < num_false_edges:\n",
    "        # randomly sample two different nodes and check whether the pair exisit or not\n",
    "        src, dst = nodes[int(np.random.rand() * N)], nodes[int(np.random.rand() * N)]\n",
    "        if src != dst and (src, dst) not in true_edges and (src, dst) not in false_edges:\n",
    "            false_edges.add((src, dst))\n",
    "    false_edges = sorted(false_edges)\n",
    "    \n",
    "    return false_edges\n",
    "\n",
    "def construct_graph_from_edges(edges):\n",
    "    \"\"\"\n",
    "    generate a directed graph object given true edges\n",
    "    DiGraph documentation: https://networkx.github.io/documentation/stable/reference/classes/digraph.html\n",
    "    \"\"\"\n",
    "    # convert a list of edges {(u, v)} to a list of edges with weights {(u, v, w)}\n",
    "    edge_weight = defaultdict(float)\n",
    "    for e in edges:\n",
    "        edge_weight[e] += 1.0\n",
    "    weighed_edge_list = list()\n",
    "    for e in sorted(edge_weight.keys()):\n",
    "        weighed_edge_list.append((e[0], e[1], edge_weight[e]))\n",
    "        \n",
    "    graph = nx.DiGraph()\n",
    "    graph.add_weighted_edges_from(weighed_edge_list)\n",
    "    \n",
    "    print(\"number of nodes:\", graph.number_of_nodes())\n",
    "    print(\"number of edges:\", graph.number_of_edges())\n",
    "    \n",
    "    return graph"
   ]
  },
  {
   "cell_type": "markdown",
   "metadata": {},
   "source": [
    "### Random Walk Generator"
   ]
  },
  {
   "cell_type": "markdown",
   "metadata": {},
   "source": [
    "Random walk generators or random walkers yield random walks that contain both local and higher-order neighborhood information. However, naive non-uniform sampling is very slow, which requires O(n) time complexity. Here alias sampling can reduce the time complexity to O(1) with O(n) space. If you are interested, please see the following blog."
   ]
  },
  {
   "cell_type": "code",
   "execution_count": 4,
   "metadata": {},
   "outputs": [],
   "source": [
    "def alias_setup(probs):\n",
    "    \"\"\"\n",
    "    compute utility lists for non-uniform sampling from discrete distributions.\n",
    "    details: https://lips.cs.princeton.edu/the-alias-method-efficient-sampling-with-many-discrete-outcomes/\n",
    "    \"\"\"\n",
    "    K = len(probs)\n",
    "    q = np.zeros(K)\n",
    "    J = np.zeros(K, dtype=np.int)\n",
    "\n",
    "    smaller = list()\n",
    "    larger = list()\n",
    "    for kk, prob in enumerate(probs):\n",
    "        q[kk] = K * prob\n",
    "        if q[kk] < 1.0:\n",
    "            smaller.append(kk)\n",
    "        else:\n",
    "            larger.append(kk)\n",
    "\n",
    "    while len(smaller) > 0 and len(larger) > 0:\n",
    "        small = smaller.pop()\n",
    "        large = larger.pop()\n",
    "\n",
    "        J[small] = large\n",
    "        q[large] = q[large] + q[small] - 1.0\n",
    "        if q[large] < 1.0:\n",
    "            smaller.append(large)\n",
    "        else:\n",
    "            larger.append(large)\n",
    "\n",
    "    return J, q\n",
    "\n",
    "def get_alias_node(graph, node):\n",
    "    \"\"\"\n",
    "    get the alias node setup lists for a given node.\n",
    "    \"\"\"\n",
    "    # get the unnormalized probabilities with the first-order information\n",
    "    unnormalized_probs = list()\n",
    "    for nbr in graph.neighbors(node):\n",
    "        unnormalized_probs.append(graph[node][nbr][\"weight\"])\n",
    "    unnormalized_probs = np.array(unnormalized_probs)\n",
    "    if len(unnormalized_probs) > 0:\n",
    "        normalized_probs = unnormalized_probs / unnormalized_probs.sum()\n",
    "    else:\n",
    "        normalized_probs = unnormalized_probs\n",
    "        \n",
    "    return alias_setup(normalized_probs)\n",
    "    \n",
    "def get_alias_edge(graph, src, dst, p=1, q=1):\n",
    "    \"\"\"\n",
    "    get the alias edge setup lists for a given edge.\n",
    "    \"\"\"\n",
    "    # get the unnormalized probabilities with the second-order information\n",
    "    unnormalized_probs = list()\n",
    "    for dst_nbr in graph.neighbors(dst):\n",
    "        if dst_nbr == src: # distance is 0\n",
    "            unnormalized_probs.append(graph[dst][dst_nbr][\"weight\"]/p)\n",
    "        elif graph.has_edge(dst_nbr, src): # distance is 1\n",
    "            unnormalized_probs.append(graph[dst][dst_nbr][\"weight\"])\n",
    "        else: # distance is 2\n",
    "            unnormalized_probs.append(graph[dst][dst_nbr][\"weight\"]/q)\n",
    "    unnormalized_probs = np.array(unnormalized_probs)\n",
    "    if len(unnormalized_probs) > 0:\n",
    "        normalized_probs = unnormalized_probs / unnormalized_probs.sum()\n",
    "    else:\n",
    "        normalized_probs = unnormalized_probs\n",
    "\n",
    "    return alias_setup(normalized_probs)\n",
    "\n",
    "def preprocess_transition_probs(graph, p=1, q=1):\n",
    "    \"\"\"\n",
    "    preprocess transition probabilities for guiding the random walks.\n",
    "    \"\"\"\n",
    "    alias_nodes = dict()\n",
    "    for node in graph.nodes():\n",
    "        alias_nodes[node] = get_alias_node(graph, node)\n",
    "\n",
    "    alias_edges = dict()\n",
    "    for edge in graph.edges():\n",
    "        alias_edges[edge] = get_alias_edge(graph, edge[0], edge[1], p=p, q=q)\n",
    "\n",
    "    return alias_nodes, alias_edges"
   ]
  },
  {
   "cell_type": "markdown",
   "metadata": {},
   "source": [
    "The difference between DeepWalk and node2vec is how to generate random walks. The former only consider the first-order information while the latter also involves the second-order information."
   ]
  },
  {
   "cell_type": "code",
   "execution_count": 5,
   "metadata": {},
   "outputs": [],
   "source": [
    "def alias_draw(J, q):\n",
    "    \"\"\"\n",
    "    draw sample from a non-uniform discrete distribution using alias sampling.\n",
    "    \"\"\"\n",
    "    K = len(J)\n",
    "\n",
    "    kk = int(np.floor(np.random.rand() * K))\n",
    "    if np.random.rand() < q[kk]:\n",
    "        return kk\n",
    "    else:\n",
    "        return J[kk]\n",
    "\n",
    "\n",
    "# helper function to generate the long random walk as desired\n",
    "def fallback(walk, fetch_last_num=1):\n",
    "    if len(walk) > fetch_last_num:\n",
    "        walk.pop()\n",
    "        fetched = []\n",
    "        for i in range(fetch_last_num):\n",
    "            fetched.append(walk[-1-i])\n",
    "        return walk, fetched\n",
    "    else:\n",
    "        return [], [None for _ in range(fetch_last_num)]\n",
    "\n",
    "def generate_first_order_random_walk(graph, alias_nodes, \n",
    "                                     walk_length=10, start_node=None, verbose=False, max_trails=10):\n",
    "    \"\"\"\n",
    "    simulate a random walk starting from start node and considering the first order information.\n",
    "    max_trials: set the max trials to be one for standard random walk. Larger max_trails will make the generated biased.\n",
    "    \"\"\"\n",
    "    if start_node == None:\n",
    "        start_node = np.random.choice(graph.nodes())\n",
    "    walk = [start_node]\n",
    "    cur = start_node\n",
    "    num_tried = 0\n",
    "    \n",
    "    ########## begin ##########\n",
    "    while len(walk) < walk_length:\n",
    "        cur_nbrs = list(graph.neighbors(cur))\n",
    "        if len(cur_nbrs) > 0: # if we can sample next nodes\n",
    "            # sample the next node based on alias_nodes\n",
    "            cur = cur_nbrs[alias_draw(*alias_nodes[cur])]\n",
    "            walk.append(cur)\n",
    "        else: # if we can't do that\n",
    "            num_tried += 1\n",
    "            if num_tried >= max_trails:\n",
    "                break\n",
    "\n",
    "            walk, fetched = fallback(walk, fetch_last_num=1)\n",
    "            cur = fetched[0]\n",
    "            if len(walk) == 0: # if falls back to the empty walk\n",
    "                start_node = np.random.choice(graph.nodes())\n",
    "                walk = [start_node]\n",
    "                cur = start_node\n",
    "    ########## end ##########\n",
    "\n",
    "    if verbose: \n",
    "        print(f'walk of lenght {len(walk)} generated with {num_tried} trails')\n",
    "    return walk\n",
    "    \n",
    "def generate_second_order_random_walk(graph, alias_nodes, alias_edges, \n",
    "                                      walk_length=10, start_node=None, verbose=False, max_trails=10):\n",
    "    \"\"\"\n",
    "    simulate a random walk starting from start node and considering the second order information.\n",
    "    \"\"\"\n",
    "    if start_node == None:\n",
    "        start_node = np.random.choice(graph.nodes())\n",
    "    walk = [start_node]\n",
    "    \n",
    "    prev = None\n",
    "    cur = start_node\n",
    "    num_tried = 0\n",
    "\n",
    "    ########## begin ##########\n",
    "    while len(walk) < walk_length:\n",
    "        cur_nbrs = list(graph.neighbors(cur))\n",
    "        if len(cur_nbrs) > 0:\n",
    "            if prev is None:\n",
    "                # sample the next node based on alias_nodes\n",
    "                prev, cur = cur, cur_nbrs[alias_draw(*alias_nodes[cur])]\n",
    "            else:\n",
    "                # sample the next node based on alias_edges\n",
    "                prev, cur = cur, cur_nbrs[alias_draw(*alias_edges[(prev, cur)])]\n",
    "            walk.append(cur)\n",
    "        else:\n",
    "            num_tried += 1\n",
    "            if num_tried >= max_trails:\n",
    "                break\n",
    "            walk, (cur, prev) = fallback(walk, fetch_last_num=2)\n",
    "            if len(walk) == 0:\n",
    "                start_node = np.random.choice(graph.nodes())\n",
    "                walk = [start_node]\n",
    "                cur = start_node\n",
    "                prev = None\n",
    "    ########## end ##########\n",
    "    if verbose: \n",
    "        print(f'walk of lenght {len(walk)} generated with {num_tried} trails')\n",
    "    return walk"
   ]
  },
  {
   "cell_type": "markdown",
   "metadata": {},
   "source": [
    "### Network Embedding Algorithms"
   ]
  },
  {
   "cell_type": "code",
   "execution_count": 6,
   "metadata": {},
   "outputs": [],
   "source": [
    "def build_deepwalk(graph, alias_nodes, node_dim=10, num_walks=10, walk_length=10):\n",
    "    \"\"\"\n",
    "    build a deepwalk model\n",
    "    \"\"\"\n",
    "    print(\"building a DeepWalk model...\", end=\"\\t\")\n",
    "    st = time.time()\n",
    "    np.random.seed(0)\n",
    "    nodes = list(graph.nodes())\n",
    "    walks = list()\n",
    "    # generate random walks\n",
    "    for walk_iter in range(num_walks):\n",
    "        np.random.shuffle(nodes)\n",
    "        for node in nodes:\n",
    "            walks.append(generate_first_order_random_walk(\n",
    "                graph, alias_nodes, walk_length=walk_length, start_node=node))\n",
    "        \n",
    "    walk_lens = [len(w) for w in walks]\n",
    "    if len(walk_lens) > 0:\n",
    "        avg_walk_len = sum(walk_lens) / len(walk_lens)\n",
    "    else:\n",
    "        avg_walk_len = 0.0\n",
    "    print(\"number of walks: %d\\taverage walk length: %.4f\" % (len(walks), avg_walk_len), end=\"\\t\")\n",
    "    \n",
    "    # train a skip-gram model for these walks\n",
    "    model = Word2Vec(walks, vector_size=node_dim, window=3, min_count=0, sg=1, workers=os.cpu_count(), epochs=10)\n",
    "    print(\"training time: %.4f\" % (time.time()-st))\n",
    "    \n",
    "    return model\n",
    "\n",
    "def build_node2vec(graph, alias_nodes, alias_edges, node_dim=10, num_walks=10, walk_length=10):\n",
    "    \"\"\"\n",
    "    build a node2vec model\n",
    "    \"\"\"\n",
    "    print(\"building a node2vec model...\", end=\"\\t\")\n",
    "    st = time.time()\n",
    "    np.random.seed(0)\n",
    "    nodes = list(graph.nodes())\n",
    "    walks = list()\n",
    "    # generate random walks\n",
    "    for walk_iter in range(num_walks):\n",
    "        np.random.shuffle(nodes)\n",
    "        for node in nodes:\n",
    "            walks.append(generate_second_order_random_walk(\n",
    "                graph, alias_nodes, alias_edges, walk_length=walk_length, start_node=node))\n",
    "            \n",
    "    walk_lens = [len(w) for w in walks]\n",
    "    if len(walk_lens) > 0:\n",
    "        avg_walk_len = sum(walk_lens) / len(walk_lens)\n",
    "    else:\n",
    "        avg_walk_len = 0.0    \n",
    "    print(\"number of walks: %d\\taverage walk length: %.4f\" % (len(walks), avg_walk_len), end=\"\\t\")\n",
    "    \n",
    "    # train a skip-gram model for these walks\n",
    "    model = Word2Vec(walks, vector_size=node_dim, window=3, min_count=0, sg=1, workers=os.cpu_count(), epochs=10)\n",
    "    print(\"training time: %.4f\" % (time.time()-st))\n",
    "    \n",
    "    return model"
   ]
  },
  {
   "cell_type": "markdown",
   "metadata": {},
   "source": [
    "### Scorer"
   ]
  },
  {
   "cell_type": "code",
   "execution_count": 7,
   "metadata": {},
   "outputs": [],
   "source": [
    "def get_cosine_sim(model, u, v):\n",
    "    \"\"\"\n",
    "    get the cosine similarity between two nodes\n",
    "    \"\"\"\n",
    "    try:\n",
    "        u = model.wv[u]\n",
    "        v = model.wv[v]\n",
    "        return np.dot(u, v) / (np.linalg.norm(u) * np.linalg.norm(v))\n",
    "    except:\n",
    "        return 0.5\n",
    "\n",
    "def get_auc_score(model, true_edges, false_edges):\n",
    "    \"\"\"\n",
    "    get the auc score\n",
    "    \"\"\"\n",
    "    y_true = [1] * len(true_edges) + [0] * len(false_edges)\n",
    "    \n",
    "    y_score = list()\n",
    "    for e in true_edges:\n",
    "        y_score.append(get_cosine_sim(model, e[0], e[1]))\n",
    "    for e in false_edges:\n",
    "        y_score.append(get_cosine_sim(model, e[0], e[1]))\n",
    "    \n",
    "    return roc_auc_score(y_true, y_score)\n",
    "\n",
    "def write_pred(file_name, edges, scores):\n",
    "    df = pd.DataFrame()\n",
    "    df[\"src\"] = [e[0] for e in edges]\n",
    "    df[\"dst\"] = [e[1] for e in edges]\n",
    "    df[\"score\"] = scores\n",
    "    df.to_csv(file_name, index=False)\n",
    "    \n",
    "    \n",
    "\n",
    "\n",
    "\n",
    "def write_valid_ans(file_name, edges, scores):\n",
    "    df = pd.DataFrame()\n",
    "    df[\"src\"] = [e[0] for e in edges]\n",
    "    df[\"dst\"] = [e[1] for e in edges]\n",
    "    df[\"score\"] = scores\n",
    "    df.to_csv(file_name, index=False)"
   ]
  },
  {
   "cell_type": "markdown",
   "metadata": {},
   "source": [
    "### Try them over a Real-life Network"
   ]
  },
  {
   "cell_type": "markdown",
   "metadata": {},
   "source": [
    "Firstly, we need to load edges into memory and use the networkx.DiGraph structure to store the graph."
   ]
  },
  {
   "cell_type": "code",
   "execution_count": 8,
   "metadata": {},
   "outputs": [
    {
     "name": "stdout",
     "output_type": "stream",
     "text": [
      "number of nodes: 8328\n",
      "number of edges: 100000\n",
      "8474 119268\n"
     ]
    }
   ],
   "source": [
    "train_file = \"data/train.csv\"\n",
    "valid_file = \"data/valid.csv\"\n",
    "test_file = \"data/test.csv\"\n",
    "\n",
    "np.random.seed(0)\n",
    "train_edges = load_data(train_file)\n",
    "graph = construct_graph_from_edges(train_edges)\n",
    "valid_edges = load_data(valid_file)\n",
    "false_edges = generate_false_edges(train_edges+valid_edges, 40000-len(valid_edges))\n",
    "test_edges = load_test_data(test_file)"
   ]
  },
  {
   "cell_type": "markdown",
   "metadata": {},
   "source": [
    "After that, we can use preprocess transition probabilities with the help of alias sampling."
   ]
  },
  {
   "cell_type": "code",
   "execution_count": 9,
   "metadata": {},
   "outputs": [],
   "source": [
    "alias_nodes, alias_edges = preprocess_transition_probs(graph, p=1, q=1)"
   ]
  },
  {
   "cell_type": "markdown",
   "metadata": {},
   "source": [
    "We can use random walk generators to generate random walks."
   ]
  },
  {
   "cell_type": "markdown",
   "metadata": {},
   "source": [
    "Let's try to generate a first-order random walk and a second-order random walk."
   ]
  },
  {
   "cell_type": "code",
   "execution_count": 10,
   "metadata": {},
   "outputs": [
    {
     "data": {
      "text/plain": [
       "['N6ZTMIue-2b30CJv2tyPGg',\n",
       " 'rEVrHXlCNGQNOfWDKxOnTQ',\n",
       " 'mTRDblbRHCLKv1ZDxo9zcw',\n",
       " 'KxGeqg5ccByhaZfQRI4Nnw',\n",
       " 's79vzEzqavL_29pmraXZBA',\n",
       " '-d78vV86WnU2uWac1fEntA',\n",
       " '7C4B2Skmh4X9f8xJDo9O4w',\n",
       " 'MQwSyZ2MZ6N7rtAmphZCow',\n",
       " 'MPGqUhAsmVEHq9k9X6VZKw',\n",
       " 'DXh8yxwZCg5Ckj5kmDvKXw']"
      ]
     },
     "execution_count": 10,
     "metadata": {},
     "output_type": "execute_result"
    }
   ],
   "source": [
    "generate_first_order_random_walk(graph, alias_nodes=alias_nodes,\n",
    "                                 start_node=\"N6ZTMIue-2b30CJv2tyPGg\", walk_length=10)"
   ]
  },
  {
   "cell_type": "code",
   "execution_count": 11,
   "metadata": {},
   "outputs": [
    {
     "data": {
      "text/plain": [
       "['N6ZTMIue-2b30CJv2tyPGg',\n",
       " 'N8KY5W3UXAZrAGMYO2IDFw',\n",
       " 'qkm-c38xpD1jyE6BTJUJKw',\n",
       " 'HmILc-lgVKZS7mWNdYCSJw',\n",
       " 'PcPminF0bIUsKjUh9e4DMQ',\n",
       " 'jbGIMoecQm9zG8Ppmx-Y-Q',\n",
       " '3QCugmCSsCOHsC3fE0NBjg',\n",
       " 'qF1V8GyuLL5Fpv40Cyturw',\n",
       " 'IISdCEnlZEvRl-v2HO6XgA',\n",
       " 'ZyGrNTbnab8N3kmesYaQBQ']"
      ]
     },
     "execution_count": 11,
     "metadata": {},
     "output_type": "execute_result"
    }
   ],
   "source": [
    "generate_second_order_random_walk(graph, alias_nodes=alias_nodes, alias_edges=alias_edges,\n",
    "                                  start_node=\"N6ZTMIue-2b30CJv2tyPGg\", walk_length=10)"
   ]
  },
  {
   "cell_type": "markdown",
   "metadata": {},
   "source": [
    "And we can build a DeepWalk model and a node2vec model. Here we set p=q=0.5 so that the walker will not go very far away from the start node."
   ]
  },
  {
   "cell_type": "code",
   "execution_count": 12,
   "metadata": {},
   "outputs": [
    {
     "name": "stdout",
     "output_type": "stream",
     "text": [
      "building a DeepWalk model...\tnumber of walks: 83280\taverage walk length: 9.8980\ttraining time: 17.8508\n"
     ]
    }
   ],
   "source": [
    "model = build_deepwalk(graph, alias_nodes, node_dim=10, num_walks=10, walk_length=10)"
   ]
  },
  {
   "cell_type": "code",
   "execution_count": 13,
   "metadata": {},
   "outputs": [
    {
     "name": "stdout",
     "output_type": "stream",
     "text": [
      "building a node2vec model...\tnumber of walks: 83280\taverage walk length: 9.9910\ttraining time: 20.5709\n"
     ]
    }
   ],
   "source": [
    "model = build_node2vec(graph, alias_nodes, alias_edges, node_dim=10, num_walks=10, walk_length=10)"
   ]
  },
  {
   "cell_type": "markdown",
   "metadata": {},
   "source": [
    "Let's see the node embeddings of three nodes, and cosine similarities of two edges."
   ]
  },
  {
   "cell_type": "code",
   "execution_count": 14,
   "metadata": {},
   "outputs": [
    {
     "name": "stdout",
     "output_type": "stream",
     "text": [
      "node embedding (\"N6ZTMIue-2b30CJv2tyPGg\"): [ 0.12590389 -1.0175952   1.9448917   1.2403092  -0.9853709   0.72653425\n",
      "  0.31203136  1.1470743  -0.5896513  -0.508077  ]\n",
      "node embedding (\"N7E-CfqdME28dakWdEKNvw\"): [ 0.7087028  -0.56836605  1.4442524   0.8700224  -0.81294835  0.5984882\n",
      "  1.1722394   0.7794697   0.26297396 -0.8120263 ]\n",
      "node embedding (\"MmlJSLDg-IFaeXb5wdJbgg\"): [ 0.21341339  0.25132564 -0.68940955  0.98553574  1.4059007   1.5576617\n",
      "  2.8156629   1.0968895  -0.5635173  -1.7645231 ]\n",
      "true edge (\"N6ZTMIue-2b30CJv2tyPGg\", \"N7E-CfqdME28dakWdEKNvw\"): 0.8544952\n",
      "false edge (\"N6ZTMIue-2b30CJv2tyPGg\", \"MmlJSLDg-IFaeXb5wdJbgg\"): 0.20427167\n"
     ]
    }
   ],
   "source": [
    "print(\"node embedding (\\\"N6ZTMIue-2b30CJv2tyPGg\\\"):\",\n",
    "      model.wv[\"N6ZTMIue-2b30CJv2tyPGg\"])\n",
    "print(\"node embedding (\\\"N7E-CfqdME28dakWdEKNvw\\\"):\",\n",
    "      model.wv[\"N7E-CfqdME28dakWdEKNvw\"])\n",
    "print(\"node embedding (\\\"MmlJSLDg-IFaeXb5wdJbgg\\\"):\",\n",
    "      model.wv.vectors[model.wv.index_to_key.index(\"MmlJSLDg-IFaeXb5wdJbgg\")])\n",
    "print(\"true edge (\\\"N6ZTMIue-2b30CJv2tyPGg\\\", \\\"N7E-CfqdME28dakWdEKNvw\\\"):\",\n",
    "      get_cosine_sim(model, \"N6ZTMIue-2b30CJv2tyPGg\", \"N7E-CfqdME28dakWdEKNvw\"))\n",
    "print(\"false edge (\\\"N6ZTMIue-2b30CJv2tyPGg\\\", \\\"MmlJSLDg-IFaeXb5wdJbgg\\\"):\",\n",
    "      get_cosine_sim(model, \"N6ZTMIue-2b30CJv2tyPGg\", \"MmlJSLDg-IFaeXb5wdJbgg\"))"
   ]
  },
  {
   "cell_type": "markdown",
   "metadata": {},
   "source": [
    "# Link Prediction"
   ]
  },
  {
   "cell_type": "markdown",
   "metadata": {},
   "source": [
    "We can train the model with different parameters and test the model on the validation set. Please show your parameter search process and analysis in your code, and visualization tools (Heatmap, etc.) are recommended to make your analysis clear."
   ]
  },
  {
   "cell_type": "markdown",
   "metadata": {},
   "source": [
    "### deepwalk"
   ]
  },
  {
   "cell_type": "code",
   "execution_count": 15,
   "metadata": {},
   "outputs": [
    {
     "name": "stdout",
     "output_type": "stream",
     "text": [
      "node dim: 12,\tnum_walks: 26,\twalk_length: 10\tbuilding a DeepWalk model...\tnumber of walks: 216528\taverage walk length: 9.8981\ttraining time: 50.1690\n",
      "auc: 0.9305\n",
      "node dim: 12,\tnum_walks: 28,\twalk_length: 10\tbuilding a DeepWalk model...\tnumber of walks: 233184\taverage walk length: 9.8981\ttraining time: 51.0276\n",
      "auc: 0.9318\n",
      "node dim: 12,\tnum_walks: 26,\twalk_length: 12\tbuilding a DeepWalk model...\tnumber of walks: 216528\taverage walk length: 11.8711\ttraining time: 55.5355\n",
      "auc: 0.9320\n",
      "node dim: 12,\tnum_walks: 28,\twalk_length: 12\tbuilding a DeepWalk model...\tnumber of walks: 233184\taverage walk length: 11.8713\ttraining time: 59.7697\n",
      "auc: 0.9318\n",
      "node dim: 12,\tnum_walks: 26,\twalk_length: 14\tbuilding a DeepWalk model...\tnumber of walks: 216528\taverage walk length: 13.8452\ttraining time: 63.1285\n",
      "auc: 0.9320\n",
      "node dim: 12,\tnum_walks: 28,\twalk_length: 14\tbuilding a DeepWalk model...\tnumber of walks: 233184\taverage walk length: 13.8452\ttraining time: 67.2148\n",
      "auc: 0.9326\n"
     ]
    }
   ],
   "source": [
    "np.random.seed(0)\n",
    "\n",
    "node_dim = 12\n",
    "num_walks = 28\n",
    "walk_length = 12\n",
    "\n",
    "deepwalk_auc_scores = dict()\n",
    "\n",
    "\n",
    "for walk_length in [10, 12, 14]:\n",
    "    for num_walks in [26 ,28]:\n",
    "        print(\"node dim: %d,\\tnum_walks: %d,\\twalk_length: %d\" % (node_dim, num_walks, walk_length), end=\"\\t\")\n",
    "        model = build_deepwalk(graph, alias_nodes, \n",
    "                               node_dim=node_dim, num_walks=num_walks, walk_length=walk_length)\n",
    "        deepwalk_auc_scores[(node_dim, num_walks, walk_length)] = get_auc_score(model, valid_edges, false_edges)\n",
    "        print(\"auc: %.4f\" % (deepwalk_auc_scores[(node_dim, num_walks, walk_length)]))"
   ]
  },
  {
   "cell_type": "code",
   "execution_count": 16,
   "metadata": {},
   "outputs": [
    {
     "data": {
      "text/plain": [
       "Text(0, 0.5, 'num_walks')"
      ]
     },
     "execution_count": 16,
     "metadata": {},
     "output_type": "execute_result"
    },
    {
     "data": {
      "image/png": "[encoded data removed]",
      "text/plain": [
       "<Figure size 432x288 with 2 Axes>"
      ]
     },
     "metadata": {
      "needs_background": "light"
     },
     "output_type": "display_data"
    }
   ],
   "source": [
    "plt.figure(figsize=(6, 4))\n",
    "node_dim = 12\n",
    "# you should have an auc score dictionary here.\n",
    "a = np.array([[deepwalk_auc_scores[(node_dim, num_walks, walk_length)] for walk_length in [10, 12, 14]] for num_walks in [26 ,28]])\n",
    "plt.imshow(a, cmap=\"hot\", interpolation=\"nearest\")\n",
    "plt.colorbar()\n",
    "plt.xticks(ticks=[0,1,2], labels=[10, 12, 14])\n",
    "plt.xlabel(\"walk_length\")\n",
    "plt.yticks(ticks=[0,1], labels=[26 ,28])\n",
    "plt.ylabel(\"num_walks\")"
   ]
  },
  {
   "cell_type": "markdown",
   "metadata": {},
   "source": [
    "### node2vector"
   ]
  },
  {
   "cell_type": "code",
   "execution_count": 17,
   "metadata": {},
   "outputs": [
    {
     "name": "stdout",
     "output_type": "stream",
     "text": [
      "node dim: 12,\tnum_walks: 26,\twalk_length: 10,\tp: 2.00,\tq: 16.00\tbuilding a node2vec model...\tnumber of walks: 216528\taverage walk length: 9.9934\ttraining time: 52.0256\n",
      "auc: 0.9287\n",
      "node dim: 12,\tnum_walks: 28,\twalk_length: 10,\tp: 2.00,\tq: 16.00\tbuilding a node2vec model...\tnumber of walks: 233184\taverage walk length: 9.9934\ttraining time: 58.4328\n",
      "auc: 0.9291\n",
      "node dim: 12,\tnum_walks: 26,\twalk_length: 12,\tp: 2.00,\tq: 16.00\tbuilding a node2vec model...\tnumber of walks: 216528\taverage walk length: 11.9905\ttraining time: 65.8216\n",
      "auc: 0.9290\n",
      "node dim: 12,\tnum_walks: 28,\twalk_length: 12,\tp: 2.00,\tq: 16.00\tbuilding a node2vec model...\tnumber of walks: 233184\taverage walk length: 11.9905\ttraining time: 70.3953\n",
      "auc: 0.9285\n",
      "node dim: 12,\tnum_walks: 26,\twalk_length: 14,\tp: 2.00,\tq: 16.00\tbuilding a node2vec model...\tnumber of walks: 216528\taverage walk length: 13.9882\ttraining time: 67.6772\n",
      "auc: 0.9286\n",
      "node dim: 12,\tnum_walks: 28,\twalk_length: 14,\tp: 2.00,\tq: 16.00\tbuilding a node2vec model...\tnumber of walks: 233184\taverage walk length: 13.9881\ttraining time: 73.2864\n",
      "auc: 0.9266\n"
     ]
    }
   ],
   "source": [
    "np.random.seed(0)\n",
    "\n",
    "node_dim = 12\n",
    "num_walks = 28\n",
    "walk_length = 12\n",
    "p = 2\n",
    "q = 16\n",
    "\n",
    "node2vec_auc_scores = dict()\n",
    "\n",
    "for walk_length in [10, 12, 14]:\n",
    "    for num_walks in [26 ,28]:\n",
    "        print(\"node dim: %d,\\tnum_walks: %d,\\twalk_length: %d,\\tp: %.2f,\\tq: %.2f\" % (\n",
    "            node_dim, num_walks, walk_length, p, q), end=\"\\t\")\n",
    "        alias_nodes, alias_edges = preprocess_transition_probs(graph, p=p, q=q)\n",
    "        model = build_node2vec(graph, alias_nodes, alias_edges, \n",
    "                               node_dim=node_dim, num_walks=num_walks, walk_length=walk_length)\n",
    "        node2vec_auc_scores[(node_dim, num_walks, walk_length, p, q)] = get_auc_score(model, valid_edges, false_edges)\n",
    "        print(\"auc: %.4f\" % (node2vec_auc_scores[(node_dim, num_walks, walk_length, p, q)]))"
   ]
  },
  {
   "cell_type": "code",
   "execution_count": 18,
   "metadata": {},
   "outputs": [
    {
     "data": {
      "text/plain": [
       "Text(0, 0.5, 'num_walks')"
      ]
     },
     "execution_count": 18,
     "metadata": {},
     "output_type": "execute_result"
    },
    {
     "data": {
      "image/png": "[encoded data removed]",
      "text/plain": [
       "<Figure size 432x288 with 2 Axes>"
      ]
     },
     "metadata": {
      "needs_background": "light"
     },
     "output_type": "display_data"
    }
   ],
   "source": [
    "plt.figure(figsize=(6, 4))\n",
    "node_dim = 12\n",
    "p=2\n",
    "q=16\n",
    "# you should have an auc score dictionary here.\n",
    "a = np.array([[node2vec_auc_scores[(node_dim, num_walks, walk_length, p, q)] for walk_length in [10, 12, 14]] for num_walks in [26 ,28]])\n",
    "plt.imshow(a, cmap=\"hot\", interpolation=\"nearest\")\n",
    "plt.colorbar()\n",
    "plt.xticks(ticks=[0,1,2], labels=[10, 12, 14])\n",
    "plt.xlabel(\"walk_length\")\n",
    "plt.yticks(ticks=[0,1], labels=[26 ,28])\n",
    "plt.ylabel(\"num_walks\")"
   ]
  },
  {
   "cell_type": "markdown",
   "metadata": {},
   "source": [
    "### Tuning p, q "
   ]
  },
  {
   "cell_type": "code",
   "execution_count": 19,
   "metadata": {},
   "outputs": [
    {
     "name": "stdout",
     "output_type": "stream",
     "text": [
      "node dim: 12,\tnum_walks: 28,\twalk_length: 12,\tp: 1.00,\tq: 16.00\tbuilding a node2vec model...\tnumber of walks: 233184\taverage walk length: 11.9910\ttraining time: 69.3270\n",
      "auc: 0.9292\n",
      "node dim: 12,\tnum_walks: 28,\twalk_length: 12,\tp: 1.00,\tq: 18.00\tbuilding a node2vec model...\tnumber of walks: 233184\taverage walk length: 11.9909\ttraining time: 84.1321\n",
      "auc: 0.9289\n",
      "node dim: 12,\tnum_walks: 28,\twalk_length: 12,\tp: 1.00,\tq: 20.00\tbuilding a node2vec model...\tnumber of walks: 233184\taverage walk length: 11.9913\ttraining time: 73.8239\n",
      "auc: 0.9284\n",
      "node dim: 12,\tnum_walks: 28,\twalk_length: 12,\tp: 2.00,\tq: 16.00\tbuilding a node2vec model...\tnumber of walks: 233184\taverage walk length: 11.9905\ttraining time: 81.1243\n",
      "auc: 0.9287\n",
      "node dim: 12,\tnum_walks: 28,\twalk_length: 12,\tp: 2.00,\tq: 18.00\tbuilding a node2vec model...\tnumber of walks: 233184\taverage walk length: 11.9911\ttraining time: 75.2360\n",
      "auc: 0.9282\n",
      "node dim: 12,\tnum_walks: 28,\twalk_length: 12,\tp: 2.00,\tq: 20.00\tbuilding a node2vec model...\tnumber of walks: 233184\taverage walk length: 11.9901\ttraining time: 79.4413\n",
      "auc: 0.9284\n",
      "node dim: 12,\tnum_walks: 28,\twalk_length: 12,\tp: 3.00,\tq: 16.00\tbuilding a node2vec model...\tnumber of walks: 233184\taverage walk length: 11.9903\ttraining time: 74.0260\n",
      "auc: 0.9289\n",
      "node dim: 12,\tnum_walks: 28,\twalk_length: 12,\tp: 3.00,\tq: 18.00\tbuilding a node2vec model...\tnumber of walks: 233184\taverage walk length: 11.9902\ttraining time: 69.6219\n",
      "auc: 0.9278\n",
      "node dim: 12,\tnum_walks: 28,\twalk_length: 12,\tp: 3.00,\tq: 20.00\tbuilding a node2vec model...\tnumber of walks: 233184\taverage walk length: 11.9896\ttraining time: 72.5052\n",
      "auc: 0.9283\n"
     ]
    }
   ],
   "source": [
    "np.random.seed(0)\n",
    "\n",
    "node_dim = 12\n",
    "num_walks = 28\n",
    "walk_length = 12\n",
    "#         p = 0.25\n",
    "#         q = 4\n",
    "\n",
    "node2vec_auc_scores = dict()\n",
    "\n",
    "for p in [1, 2, 3]:\n",
    "    for q in [16, 18, 20]:\n",
    "        print(\"node dim: %d,\\tnum_walks: %d,\\twalk_length: %d,\\tp: %.2f,\\tq: %.2f\" % (\n",
    "            node_dim, num_walks, walk_length, p, q), end=\"\\t\")\n",
    "        alias_nodes, alias_edges = preprocess_transition_probs(graph, p=p, q=q)\n",
    "        model = build_node2vec(graph, alias_nodes, alias_edges, \n",
    "                               node_dim=node_dim, num_walks=num_walks, walk_length=walk_length)\n",
    "        node2vec_auc_scores[(node_dim, num_walks, walk_length, p, q)] = get_auc_score(model, valid_edges, false_edges)\n",
    "        print(\"auc: %.4f\" % (node2vec_auc_scores[(node_dim, num_walks, walk_length, p, q)]))"
   ]
  },
  {
   "cell_type": "code",
   "execution_count": 20,
   "metadata": {},
   "outputs": [
    {
     "data": {
      "text/plain": [
       "Text(0, 0.5, 'q')"
      ]
     },
     "execution_count": 20,
     "metadata": {},
     "output_type": "execute_result"
    },
    {
     "data": {
      "image/png": "[encoded data removed]",
      "text/plain": [
       "<Figure size 432x288 with 2 Axes>"
      ]
     },
     "metadata": {
      "needs_background": "light"
     },
     "output_type": "display_data"
    }
   ],
   "source": [
    "plt.figure(figsize=(6, 4))\n",
    "node_dim = 12\n",
    "num_walks=28\n",
    "walk_length=12\n",
    "# you should have an auc score dictionary here.\n",
    "a = np.array([[node2vec_auc_scores[(node_dim, num_walks, walk_length, p, q)] for p in [1, 2, 3]] for q in [16, 18, 20]])\n",
    "plt.imshow(a, cmap=\"hot\", interpolation=\"nearest\")\n",
    "plt.colorbar()\n",
    "plt.xticks(ticks=[0,1,2], labels=[1, 2, 3])\n",
    "plt.xlabel(\"p\")\n",
    "plt.yticks(ticks=[0,1,2], labels=[16, 18, 20])\n",
    "plt.ylabel(\"q\")"
   ]
  },
  {
   "cell_type": "markdown",
   "metadata": {},
   "source": [
    "### Exchange domain of parameter searching domain"
   ]
  },
  {
   "cell_type": "code",
   "execution_count": 21,
   "metadata": {},
   "outputs": [
    {
     "name": "stdout",
     "output_type": "stream",
     "text": [
      "node dim: 12,\tnum_walks: 28,\twalk_length: 12,\tp: 16.00,\tq: 1.00\tbuilding a node2vec model...\tnumber of walks: 233184\taverage walk length: 11.9678\ttraining time: 80.4886\n",
      "auc: 0.9288\n",
      "node dim: 12,\tnum_walks: 28,\twalk_length: 12,\tp: 18.00,\tq: 1.00\tbuilding a node2vec model...\tnumber of walks: 233184\taverage walk length: 11.9667\ttraining time: 76.2496\n",
      "auc: 0.9295\n",
      "node dim: 12,\tnum_walks: 28,\twalk_length: 12,\tp: 20.00,\tq: 1.00\tbuilding a node2vec model...\tnumber of walks: 233184\taverage walk length: 11.9662\ttraining time: 70.1769\n",
      "auc: 0.9299\n",
      "node dim: 12,\tnum_walks: 28,\twalk_length: 12,\tp: 16.00,\tq: 2.00\tbuilding a node2vec model...\tnumber of walks: 233184\taverage walk length: 11.9733\ttraining time: 73.1292\n",
      "auc: 0.9286\n",
      "node dim: 12,\tnum_walks: 28,\twalk_length: 12,\tp: 18.00,\tq: 2.00\tbuilding a node2vec model...\tnumber of walks: 233184\taverage walk length: 11.9728\ttraining time: 74.2035\n",
      "auc: 0.9295\n",
      "node dim: 12,\tnum_walks: 28,\twalk_length: 12,\tp: 20.00,\tq: 2.00\tbuilding a node2vec model...\tnumber of walks: 233184\taverage walk length: 11.9725\ttraining time: 71.0816\n",
      "auc: 0.9291\n",
      "node dim: 12,\tnum_walks: 28,\twalk_length: 12,\tp: 16.00,\tq: 3.00\tbuilding a node2vec model...\tnumber of walks: 233184\taverage walk length: 11.9790\ttraining time: 72.5198\n",
      "auc: 0.9292\n",
      "node dim: 12,\tnum_walks: 28,\twalk_length: 12,\tp: 18.00,\tq: 3.00\tbuilding a node2vec model...\tnumber of walks: 233184\taverage walk length: 11.9771\ttraining time: 71.4554\n",
      "auc: 0.9295\n",
      "node dim: 12,\tnum_walks: 28,\twalk_length: 12,\tp: 20.00,\tq: 3.00\tbuilding a node2vec model...\tnumber of walks: 233184\taverage walk length: 11.9757\ttraining time: 72.2910\n",
      "auc: 0.9286\n"
     ]
    }
   ],
   "source": [
    "np.random.seed(0)\n",
    "\n",
    "node_dim = 12\n",
    "num_walks = 28\n",
    "walk_length = 12\n",
    "#         p = 0.25\n",
    "#         q = 4\n",
    "\n",
    "node2vec_auc_scores_2 = dict()\n",
    "\n",
    "for q in [1, 2, 3]:\n",
    "    for p in [16, 18, 20]:\n",
    "        print(\"node dim: %d,\\tnum_walks: %d,\\twalk_length: %d,\\tp: %.2f,\\tq: %.2f\" % (\n",
    "            node_dim, num_walks, walk_length, p, q), end=\"\\t\")\n",
    "        alias_nodes, alias_edges = preprocess_transition_probs(graph, p=p, q=q)\n",
    "        model = build_node2vec(graph, alias_nodes, alias_edges, \n",
    "                               node_dim=node_dim, num_walks=num_walks, walk_length=walk_length)\n",
    "        node2vec_auc_scores_2[(node_dim, num_walks, walk_length, p, q)] = get_auc_score(model, valid_edges, false_edges)\n",
    "        print(\"auc: %.4f\" % (node2vec_auc_scores_2[(node_dim, num_walks, walk_length, p, q)]))"
   ]
  },
  {
   "cell_type": "code",
   "execution_count": 22,
   "metadata": {},
   "outputs": [
    {
     "data": {
      "text/plain": [
       "Text(0, 0.5, 'p')"
      ]
     },
     "execution_count": 22,
     "metadata": {},
     "output_type": "execute_result"
    },
    {
     "data": {
      "image/png": "[encoded data removed]",
      "text/plain": [
       "<Figure size 432x288 with 2 Axes>"
      ]
     },
     "metadata": {
      "needs_background": "light"
     },
     "output_type": "display_data"
    }
   ],
   "source": [
    "plt.figure(figsize=(6, 4))\n",
    "node_dim = 12\n",
    "num_walks=28\n",
    "walk_length=12\n",
    "# you should have an auc score dictionary here.\n",
    "a = np.array([[node2vec_auc_scores_2[(node_dim, num_walks, walk_length, p, q)] for p in [16, 18, 20]] for q in [1, 2, 3]])\n",
    "plt.imshow(a, cmap=\"hot\", interpolation=\"nearest\")\n",
    "plt.colorbar()\n",
    "plt.xticks(ticks=[0,1,2], labels=[1, 2, 3])\n",
    "plt.xlabel(\"q\")\n",
    "plt.yticks(ticks=[0,1,2], labels=[16, 18, 20])\n",
    "plt.ylabel(\"p\")"
   ]
  },
  {
   "cell_type": "markdown",
   "metadata": {},
   "source": [
    "We figured out that, generally the fintuned results are not as good as we expected, and node2vector doesn't outperform deepwalk. So, we will continue fintune the model in **\"Best_Model.ipynb\"**"
   ]
  },
  {
   "cell_type": "code",
   "execution_count": null,
   "metadata": {},
   "outputs": [],
   "source": []
  }
 ],
 "metadata": {
  "kernelspec": {
   "display_name": "Python 3",
   "language": "python",
   "name": "python3"
  },
  "language_info": {
   "codemirror_mode": {
    "name": "ipython",
    "version": 3
   },
   "file_extension": ".py",
   "mimetype": "text/x-python",
   "name": "python",
   "nbconvert_exporter": "python",
   "pygments_lexer": "ipython3",
   "version": "3.8.5"
  }
 },
 "nbformat": 4,
 "nbformat_minor": 4
}
